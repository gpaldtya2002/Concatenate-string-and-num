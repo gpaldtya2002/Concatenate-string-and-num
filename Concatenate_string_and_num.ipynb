{
  "nbformat": 4,
  "nbformat_minor": 0,
  "metadata": {
    "colab": {
      "provenance": [],
      "authorship_tag": "ABX9TyNUA1MfUyHiC0FhDD4S4a8A",
      "include_colab_link": true
    },
    "kernelspec": {
      "name": "python3",
      "display_name": "Python 3"
    },
    "language_info": {
      "name": "python"
    }
  },
  "cells": [
    {
      "cell_type": "markdown",
      "metadata": {
        "id": "view-in-github",
        "colab_type": "text"
      },
      "source": [
        "<a href=\"https://colab.research.google.com/github/gpaldtya2002/Concatenate-string-and-num/blob/main/Concatenate_string_and_num.ipynb\" target=\"_parent\"><img src=\"https://colab.research.google.com/assets/colab-badge.svg\" alt=\"Open In Colab\"/></a>"
      ]
    },
    {
      "cell_type": "code",
      "execution_count": 7,
      "metadata": {
        "colab": {
          "base_uri": "https://localhost:8080/"
        },
        "id": "VeYxb6yFIWV_",
        "outputId": "e486f309-4ed0-4017-fc7f-0f6863dfd296"
      },
      "outputs": [
        {
          "output_type": "stream",
          "name": "stdout",
          "text": [
            "I am 20 years old\n"
          ]
        }
      ],
      "source": [
        "a= \"I am \"\n",
        "b= 20\n",
        "c= \" years old\"\n",
        "d= a + str(b) + c\n",
        "print(d)\n",
        "# else\n",
        "#print(a, str(b), c)"
      ]
    }
  ]
}